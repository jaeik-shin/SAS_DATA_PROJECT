{
 "cells": [
  {
   "cell_type": "code",
   "execution_count": 1,
   "metadata": {},
   "outputs": [],
   "source": [
    "import pandas as pd\n",
    "import numpy as np\n",
    "import matplotlib.pyplot as plt\n",
    "import seaborn as sns\n",
    "import plotly.express as px\n",
    "\n",
    "import warnings\n",
    "warnings.filterwarnings('ignore')\n",
    "\n",
    "plt.style.use('ggplot')"
   ]
  },
  {
   "cell_type": "code",
   "execution_count": 2,
   "metadata": {},
   "outputs": [],
   "source": [
    "df = pd.read_csv(\"C:/Users/shin jaeik/Documents/sas_data_project/DATA/TRAIN_DATA.csv\",encoding= 'euc-kr')"
   ]
  },
  {
   "cell_type": "code",
   "execution_count": 5,
   "metadata": {},
   "outputs": [],
   "source": [
    "# 결측치 행 제거(3개)\n",
    "df = df.dropna()\n",
    "\n",
    "# 문자열 컬럼 인코딩(라벨)\n",
    "from sklearn.preprocessing import LabelEncoder\n",
    "\n",
    "label_encoder = LabelEncoder()\n",
    "df[\"AREA_NM_ENC\"] = label_encoder.fit_transform(df['AREA_NM'])\n",
    "df[\"DIST_NM_ENC\"] = label_encoder.fit_transform(df['DIST_NM'])\n",
    "\n",
    "# 시계열 데이터 변환\n",
    "df['DATA_YM'] = pd.to_datetime(df['DATA_YM'], format='%Y%m')\n",
    "\n",
    "# 연도, 월 분리\n",
    "df['YEAR'] = df['DATA_YM'].dt.year\n",
    "df['MONTH'] = df['DATA_YM'].dt.month\n",
    "\n",
    "df['YM_NUM'] = df['YEAR'] * 12 + df['MONTH']\n",
    "\n",
    "# X, y 나누기(타겟데이터 나누고, 문자열 컬럼 없애기)\n",
    "X = df.drop(columns= ['TOTAL_ELEC', 'DATA_YM', 'AREA_NM', 'DIST_NM'])\n",
    "y = df['TOTAL_ELEC']\n",
    "\n",
    "\n",
    "# X셋도 시계열 데이터 변환\n",
    "X['DATA_YM'] = pd.to_datetime(df['DATA_YM'], format='%Y%m')\n",
    "\n",
    "# 연도, 월 분리\n",
    "X['YEAR'] = X['DATA_YM'].dt.year\n",
    "X['MONTH'] = X['DATA_YM'].dt.month\n",
    "\n",
    "X['YM_NUM'] = X['YEAR'] * 12 + X['MONTH']"
   ]
  },
  {
   "cell_type": "code",
   "execution_count": 6,
   "metadata": {},
   "outputs": [],
   "source": [
    "# 로그변환\n",
    "df['LOG_ELEC'] = np.log1p(df['TOTAL_ELEC'])\n",
    "\n",
    "X = df.drop(columns=['TOTAL_ELEC', 'DATA_YM', 'AREA_NM', 'DIST_NM'])\n",
    "y = df['LOG_ELEC']"
   ]
  },
  {
   "cell_type": "code",
   "execution_count": 9,
   "metadata": {},
   "outputs": [
    {
     "name": "stdout",
     "output_type": "stream",
     "text": [
      "[LightGBM] [Info] Auto-choosing row-wise multi-threading, the overhead of testing was 0.012031 seconds.\n",
      "You can set `force_row_wise=true` to remove the overhead.\n",
      "And if memory is not enough, you can set `force_col_wise=true`.\n",
      "[LightGBM] [Info] Total Bins 2678\n",
      "[LightGBM] [Info] Number of data points in the train set: 20876, number of used features: 22\n",
      "[LightGBM] [Info] Start training from score 6.500556\n",
      "로그복원 후 RMSE : 142.2639\n"
     ]
    }
   ],
   "source": [
    "from sklearn.metrics import mean_squared_error\n",
    "from sklearn.model_selection import train_test_split\n",
    "from lightgbm import LGBMRegressor\n",
    "\n",
    "\n",
    "X_train, X_val, y_train, y_val = train_test_split(X, y, test_size= 0.2 , random_state= 42)\n",
    "\n",
    "# 객체 생성\n",
    "model = LGBMRegressor(random_state=42)\n",
    "# 모델 학습\n",
    "model.fit(X_train, y_train)\n",
    "\n",
    "y_pred_log = model.predict(X_val)\n",
    "\n",
    "# 로그복원\n",
    "y_pred = np.expm1(y_pred_log)\n",
    "y_val_origin = np.expm1(y_val)\n",
    "\n",
    "# RMSE 계산\n",
    "rmse = mean_squared_error(y_val_origin, y_pred, squared= False)\n",
    "print(f\"로그복원 후 RMSE : {rmse:.4f}\")"
   ]
  }
 ],
 "metadata": {
  "kernelspec": {
   "display_name": "base",
   "language": "python",
   "name": "python3"
  },
  "language_info": {
   "codemirror_mode": {
    "name": "ipython",
    "version": 3
   },
   "file_extension": ".py",
   "mimetype": "text/x-python",
   "name": "python",
   "nbconvert_exporter": "python",
   "pygments_lexer": "ipython3",
   "version": "3.12.7"
  }
 },
 "nbformat": 4,
 "nbformat_minor": 2
}
